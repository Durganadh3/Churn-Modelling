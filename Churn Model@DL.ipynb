{
  "nbformat": 4,
  "nbformat_minor": 0,
  "metadata": {
    "colab": {
      "provenance": []
    },
    "kernelspec": {
      "name": "python3",
      "display_name": "Python 3"
    },
    "language_info": {
      "name": "python"
    }
  },
  "cells": [
    {
      "cell_type": "code",
      "source": [
        "import tensorflow as tf\n",
        "# Importing the libraries\n",
        "import numpy as np\n",
        "import matplotlib.pyplot as plt\n",
        "import pandas as pd\n",
        "# Splitting the dataset into the Training set and Test set\n",
        "from sklearn.model_selection import train_test_split\n",
        "# Feature Scaling\n",
        "from sklearn.preprocessing import StandardScaler\n",
        "# Deep learning Lib\n",
        "from tensorflow.keras.models import Sequential\n",
        "from tensorflow.keras.layers import Dense,Dropout,LeakyReLU,PReLU,ELU\n"
      ],
      "metadata": {
        "id": "D2IliGyI62B0"
      },
      "execution_count": 1,
      "outputs": []
    },
    {
      "cell_type": "code",
      "source": [
        "# Importing the dataset\n",
        "dataset = pd.read_csv('/content/Churn_Modelling.csv')\n",
        "X = dataset.iloc[:, 3:13]\n",
        "y = dataset.iloc[:, 13]"
      ],
      "metadata": {
        "id": "gHRHobkK7Sxn"
      },
      "execution_count": 2,
      "outputs": []
    },
    {
      "cell_type": "code",
      "source": [
        "#Create dummy variables\n",
        "geography=pd.get_dummies(X[\"Geography\"],drop_first=True)\n",
        "gender=pd.get_dummies(X['Gender'],drop_first=True)"
      ],
      "metadata": {
        "id": "T2yS0VL67Ufn"
      },
      "execution_count": 3,
      "outputs": []
    },
    {
      "cell_type": "code",
      "source": [
        "## Concatenate the Data Frames\n",
        "\n",
        "X=pd.concat([X,geography,gender],axis=1)\n",
        "\n",
        "## Drop Unnecessary columns\n",
        "X=X.drop(['Geography','Gender'],axis=1)\n",
        "\n",
        "X_train, X_test, y_train, y_test = train_test_split(X, y, test_size = 0.2, random_state = 0)\n"
      ],
      "metadata": {
        "id": "Co2rxaFR7Wgo"
      },
      "execution_count": 4,
      "outputs": []
    },
    {
      "cell_type": "code",
      "source": [
        "# Feature Scaling\n",
        "sc = StandardScaler()\n",
        "X_train = sc.fit_transform(X_train)\n",
        "X_test = sc.transform(X_test)\n"
      ],
      "metadata": {
        "id": "GNZrZXy37ZLs"
      },
      "execution_count": 5,
      "outputs": []
    },
    {
      "cell_type": "code",
      "source": [
        "#  Now let's make the ANN!"
      ],
      "metadata": {
        "id": "uwN3bgie7bvT"
      },
      "execution_count": 6,
      "outputs": []
    },
    {
      "cell_type": "code",
      "source": [
        "# Initialising the ANN\n",
        "classifier = Sequential()"
      ],
      "metadata": {
        "id": "VDJwvrbZ7kj4"
      },
      "execution_count": 7,
      "outputs": []
    },
    {
      "cell_type": "code",
      "source": [
        "# Adding the input layer and the first hidden layer\n",
        "classifier.add(Dense(units=11,activation='relu'))"
      ],
      "metadata": {
        "id": "RSZQrU-g7z4N"
      },
      "execution_count": 8,
      "outputs": []
    },
    {
      "cell_type": "code",
      "source": [
        "# Adding the input layer and the first hidden layer\n",
        "classifier.add(Dense(units=6,activation='relu'))"
      ],
      "metadata": {
        "id": "byszZMvw8RcQ"
      },
      "execution_count": 9,
      "outputs": []
    },
    {
      "cell_type": "code",
      "source": [
        "# Adding the input layer and the first hidden layer\n",
        "classifier.add(Dense(units=1,activation='relu'))"
      ],
      "metadata": {
        "id": "Mk2slmAX8XUI"
      },
      "execution_count": 10,
      "outputs": []
    },
    {
      "cell_type": "code",
      "source": [
        "classifier.compile(optimizer='adam',loss='binary_crossentropy',metrics=['accuracy'])"
      ],
      "metadata": {
        "id": "F2udThHo8cFt"
      },
      "execution_count": 11,
      "outputs": []
    },
    {
      "cell_type": "code",
      "source": [
        "model_history=classifier.fit(X_train,y_train,validation_split=0.33,batch_size=10,epochs=50)"
      ],
      "metadata": {
        "colab": {
          "base_uri": "https://localhost:8080/"
        },
        "id": "3qairJAs8fIc",
        "outputId": "27ac7b17-9bb5-436f-f91a-53cac64ccbf2"
      },
      "execution_count": 12,
      "outputs": [
        {
          "output_type": "stream",
          "name": "stdout",
          "text": [
            "Epoch 1/50\n",
            "536/536 [==============================] - 3s 3ms/step - loss: 1.0012 - accuracy: 0.7589 - val_loss: 0.7365 - val_accuracy: 0.7641\n",
            "Epoch 2/50\n",
            "536/536 [==============================] - 1s 2ms/step - loss: 0.6744 - accuracy: 0.7611 - val_loss: 0.6684 - val_accuracy: 0.7134\n",
            "Epoch 3/50\n",
            "536/536 [==============================] - 2s 3ms/step - loss: 0.5974 - accuracy: 0.7462 - val_loss: 0.5702 - val_accuracy: 0.7588\n",
            "Epoch 4/50\n",
            "536/536 [==============================] - 2s 3ms/step - loss: 0.5353 - accuracy: 0.7718 - val_loss: 0.5506 - val_accuracy: 0.7785\n",
            "Epoch 5/50\n",
            "536/536 [==============================] - 2s 3ms/step - loss: 0.5130 - accuracy: 0.7891 - val_loss: 0.5190 - val_accuracy: 0.7864\n",
            "Epoch 6/50\n",
            "536/536 [==============================] - 1s 2ms/step - loss: 0.4969 - accuracy: 0.7962 - val_loss: 0.5060 - val_accuracy: 0.7891\n",
            "Epoch 7/50\n",
            "536/536 [==============================] - 1s 3ms/step - loss: 0.4838 - accuracy: 0.7988 - val_loss: 0.4990 - val_accuracy: 0.7914\n",
            "Epoch 8/50\n",
            "536/536 [==============================] - 2s 4ms/step - loss: 0.4710 - accuracy: 0.8022 - val_loss: 0.4908 - val_accuracy: 0.7948\n",
            "Epoch 9/50\n",
            "536/536 [==============================] - 2s 4ms/step - loss: 0.4615 - accuracy: 0.8035 - val_loss: 0.4857 - val_accuracy: 0.7955\n",
            "Epoch 10/50\n",
            "536/536 [==============================] - 2s 4ms/step - loss: 0.4507 - accuracy: 0.8046 - val_loss: 0.4764 - val_accuracy: 0.8001\n",
            "Epoch 11/50\n",
            "536/536 [==============================] - 2s 3ms/step - loss: 0.4422 - accuracy: 0.8072 - val_loss: 0.4727 - val_accuracy: 0.8001\n",
            "Epoch 12/50\n",
            "536/536 [==============================] - 2s 3ms/step - loss: 0.4339 - accuracy: 0.8113 - val_loss: 0.4722 - val_accuracy: 0.8020\n",
            "Epoch 13/50\n",
            "536/536 [==============================] - 1s 2ms/step - loss: 0.4327 - accuracy: 0.8145 - val_loss: 0.4643 - val_accuracy: 0.8035\n",
            "Epoch 14/50\n",
            "536/536 [==============================] - 2s 4ms/step - loss: 0.4269 - accuracy: 0.8145 - val_loss: 0.4490 - val_accuracy: 0.8069\n",
            "Epoch 15/50\n",
            "536/536 [==============================] - 2s 4ms/step - loss: 0.4228 - accuracy: 0.8210 - val_loss: 0.4488 - val_accuracy: 0.8118\n",
            "Epoch 16/50\n",
            "536/536 [==============================] - 1s 2ms/step - loss: 0.4146 - accuracy: 0.8252 - val_loss: 0.4471 - val_accuracy: 0.7978\n",
            "Epoch 17/50\n",
            "536/536 [==============================] - 2s 3ms/step - loss: 0.4276 - accuracy: 0.8309 - val_loss: 0.4535 - val_accuracy: 0.8156\n",
            "Epoch 18/50\n",
            "536/536 [==============================] - 2s 3ms/step - loss: 0.4087 - accuracy: 0.8343 - val_loss: 0.4293 - val_accuracy: 0.8201\n",
            "Epoch 19/50\n",
            "536/536 [==============================] - 2s 4ms/step - loss: 0.4020 - accuracy: 0.8375 - val_loss: 0.4213 - val_accuracy: 0.8213\n",
            "Epoch 20/50\n",
            "536/536 [==============================] - 2s 3ms/step - loss: 0.3921 - accuracy: 0.8431 - val_loss: 0.4308 - val_accuracy: 0.8220\n",
            "Epoch 21/50\n",
            "536/536 [==============================] - 1s 3ms/step - loss: 0.3853 - accuracy: 0.8429 - val_loss: 0.4084 - val_accuracy: 0.8232\n",
            "Epoch 22/50\n",
            "536/536 [==============================] - 2s 3ms/step - loss: 0.3748 - accuracy: 0.8492 - val_loss: 0.4079 - val_accuracy: 0.8307\n",
            "Epoch 23/50\n",
            "536/536 [==============================] - 2s 3ms/step - loss: 0.3738 - accuracy: 0.8492 - val_loss: 0.4031 - val_accuracy: 0.8307\n",
            "Epoch 24/50\n",
            "536/536 [==============================] - 1s 2ms/step - loss: 0.3677 - accuracy: 0.8517 - val_loss: 0.4063 - val_accuracy: 0.8330\n",
            "Epoch 25/50\n",
            "536/536 [==============================] - 2s 3ms/step - loss: 0.3621 - accuracy: 0.8520 - val_loss: 0.3949 - val_accuracy: 0.8323\n",
            "Epoch 26/50\n",
            "536/536 [==============================] - 2s 3ms/step - loss: 0.3563 - accuracy: 0.8533 - val_loss: 0.3984 - val_accuracy: 0.8345\n",
            "Epoch 27/50\n",
            "536/536 [==============================] - 2s 4ms/step - loss: 0.3570 - accuracy: 0.8546 - val_loss: 0.4040 - val_accuracy: 0.8342\n",
            "Epoch 28/50\n",
            "536/536 [==============================] - 2s 3ms/step - loss: 0.3568 - accuracy: 0.8539 - val_loss: 0.4083 - val_accuracy: 0.8379\n",
            "Epoch 29/50\n",
            "536/536 [==============================] - 1s 2ms/step - loss: 0.3558 - accuracy: 0.8559 - val_loss: 0.3975 - val_accuracy: 0.8383\n",
            "Epoch 30/50\n",
            "536/536 [==============================] - 1s 2ms/step - loss: 0.3553 - accuracy: 0.8531 - val_loss: 0.3992 - val_accuracy: 0.8410\n",
            "Epoch 31/50\n",
            "536/536 [==============================] - 1s 2ms/step - loss: 0.3553 - accuracy: 0.8531 - val_loss: 0.4017 - val_accuracy: 0.8372\n",
            "Epoch 32/50\n",
            "536/536 [==============================] - 1s 2ms/step - loss: 0.3533 - accuracy: 0.8541 - val_loss: 0.4289 - val_accuracy: 0.8379\n",
            "Epoch 33/50\n",
            "536/536 [==============================] - 1s 2ms/step - loss: 0.3571 - accuracy: 0.8543 - val_loss: 0.4132 - val_accuracy: 0.8406\n",
            "Epoch 34/50\n",
            "536/536 [==============================] - 2s 3ms/step - loss: 0.3530 - accuracy: 0.8539 - val_loss: 0.4000 - val_accuracy: 0.8398\n",
            "Epoch 35/50\n",
            "536/536 [==============================] - 2s 4ms/step - loss: 0.3462 - accuracy: 0.8569 - val_loss: 0.4052 - val_accuracy: 0.8406\n",
            "Epoch 36/50\n",
            "536/536 [==============================] - 1s 2ms/step - loss: 0.3619 - accuracy: 0.8515 - val_loss: 0.4011 - val_accuracy: 0.8391\n",
            "Epoch 37/50\n",
            "536/536 [==============================] - 2s 3ms/step - loss: 0.3485 - accuracy: 0.8550 - val_loss: 0.4062 - val_accuracy: 0.8444\n",
            "Epoch 38/50\n",
            "536/536 [==============================] - 1s 2ms/step - loss: 0.3495 - accuracy: 0.8591 - val_loss: 0.4094 - val_accuracy: 0.8387\n",
            "Epoch 39/50\n",
            "536/536 [==============================] - 1s 2ms/step - loss: 0.3527 - accuracy: 0.8565 - val_loss: 0.4257 - val_accuracy: 0.8417\n",
            "Epoch 40/50\n",
            "536/536 [==============================] - 1s 2ms/step - loss: 0.3493 - accuracy: 0.8572 - val_loss: 0.3915 - val_accuracy: 0.8402\n",
            "Epoch 41/50\n",
            "536/536 [==============================] - 2s 3ms/step - loss: 0.3442 - accuracy: 0.8584 - val_loss: 0.3924 - val_accuracy: 0.8391\n",
            "Epoch 42/50\n",
            "536/536 [==============================] - 2s 3ms/step - loss: 0.3440 - accuracy: 0.8571 - val_loss: 0.3860 - val_accuracy: 0.8440\n",
            "Epoch 43/50\n",
            "536/536 [==============================] - 2s 4ms/step - loss: 0.3395 - accuracy: 0.8576 - val_loss: 0.4045 - val_accuracy: 0.8417\n",
            "Epoch 44/50\n",
            "536/536 [==============================] - 2s 3ms/step - loss: 0.3412 - accuracy: 0.8586 - val_loss: 0.4186 - val_accuracy: 0.8444\n",
            "Epoch 45/50\n",
            "536/536 [==============================] - 1s 2ms/step - loss: 0.3417 - accuracy: 0.8595 - val_loss: 0.3878 - val_accuracy: 0.8432\n",
            "Epoch 46/50\n",
            "536/536 [==============================] - 1s 2ms/step - loss: 0.3420 - accuracy: 0.8608 - val_loss: 0.4047 - val_accuracy: 0.8448\n",
            "Epoch 47/50\n",
            "536/536 [==============================] - 1s 2ms/step - loss: 0.3479 - accuracy: 0.8606 - val_loss: 0.3950 - val_accuracy: 0.8466\n",
            "Epoch 48/50\n",
            "536/536 [==============================] - 2s 3ms/step - loss: 0.3456 - accuracy: 0.8593 - val_loss: 0.4073 - val_accuracy: 0.8455\n",
            "Epoch 49/50\n",
            "536/536 [==============================] - 1s 2ms/step - loss: 0.3463 - accuracy: 0.8591 - val_loss: 0.3947 - val_accuracy: 0.8436\n",
            "Epoch 50/50\n",
            "536/536 [==============================] - 1s 2ms/step - loss: 0.3468 - accuracy: 0.8586 - val_loss: 0.4138 - val_accuracy: 0.8432\n"
          ]
        }
      ]
    },
    {
      "cell_type": "code",
      "source": [
        "# list all data in history\n",
        "\n",
        "print(model_history.history.keys())"
      ],
      "metadata": {
        "colab": {
          "base_uri": "https://localhost:8080/"
        },
        "id": "Q9t_M4wICTTz",
        "outputId": "a378371a-a7c7-45aa-9c76-8a959a666b5a"
      },
      "execution_count": 13,
      "outputs": [
        {
          "output_type": "stream",
          "name": "stdout",
          "text": [
            "dict_keys(['loss', 'accuracy', 'val_loss', 'val_accuracy'])\n"
          ]
        }
      ]
    },
    {
      "cell_type": "code",
      "source": [
        "\n",
        "# summarize history for accuracy\n",
        "plt.plot(model_history.history['accuracy'])\n",
        "plt.plot(model_history.history['val_accuracy'])\n",
        "plt.title('model accuracy')\n",
        "plt.ylabel('accuracy')\n",
        "plt.xlabel('epoch')\n",
        "plt.legend(['train', 'test'], loc='upper left')\n",
        "plt.show()"
      ],
      "metadata": {
        "colab": {
          "base_uri": "https://localhost:8080/",
          "height": 472
        },
        "id": "MMOyiwzgBlLY",
        "outputId": "d4ba12a9-188a-4e25-926f-f6ba94f2238f"
      },
      "execution_count": 14,
      "outputs": [
        {
          "output_type": "display_data",
          "data": {
            "text/plain": [
              "<Figure size 640x480 with 1 Axes>"
            ],
            "image/png": "[encoded data removed]"
          },
          "metadata": {}
        }
      ]
    },
    {
      "cell_type": "code",
      "source": [
        "# summarize history for loss\n",
        "plt.plot(model_history.history['loss'])\n",
        "plt.plot(model_history.history['val_loss'])\n",
        "plt.title('model loss')\n",
        "plt.ylabel('loss')\n",
        "plt.xlabel('epoch')\n",
        "plt.legend(['train', 'test'], loc='upper left')\n",
        "plt.show()"
      ],
      "metadata": {
        "colab": {
          "base_uri": "https://localhost:8080/",
          "height": 472
        },
        "id": "QH141RsQCEr0",
        "outputId": "76f170e6-00d2-4eb0-df12-c4315952b0de"
      },
      "execution_count": 15,
      "outputs": [
        {
          "output_type": "display_data",
          "data": {
            "text/plain": [
              "<Figure size 640x480 with 1 Axes>"
            ],
            "image/png": "[encoded data removed]"
          },
          "metadata": {}
        }
      ]
    },
    {
      "cell_type": "code",
      "source": [
        "# Making the predictions and evaluating the model\n",
        "\n",
        "# Predicting the Test set results\n",
        "y_pred = classifier.predict(X_test)\n",
        "y_pred = (y_pred > 0.5)"
      ],
      "metadata": {
        "id": "OYqCIIkDCd8S",
        "colab": {
          "base_uri": "https://localhost:8080/"
        },
        "outputId": "370bda97-7b6a-4c0a-c06e-c8126d6b38e6"
      },
      "execution_count": 16,
      "outputs": [
        {
          "output_type": "stream",
          "name": "stdout",
          "text": [
            "63/63 [==============================] - 0s 1ms/step\n"
          ]
        }
      ]
    },
    {
      "cell_type": "code",
      "source": [
        "# Making the Confusion Matrix\n",
        "from sklearn.metrics import confusion_matrix\n",
        "cm = confusion_matrix(y_test, y_pred)\n",
        "cm"
      ],
      "metadata": {
        "colab": {
          "base_uri": "https://localhost:8080/"
        },
        "id": "cm3EeOGTCi3-",
        "outputId": "8c3a10cd-379c-40d5-fefa-ce04d91980dd"
      },
      "execution_count": 17,
      "outputs": [
        {
          "output_type": "execute_result",
          "data": {
            "text/plain": [
              "array([[1504,   91],\n",
              "       [ 207,  198]])"
            ]
          },
          "metadata": {},
          "execution_count": 17
        }
      ]
    },
    {
      "cell_type": "code",
      "source": [
        "# Calculate the Accuracy\n",
        "from sklearn.metrics import accuracy_score\n",
        "score=accuracy_score(y_pred,y_test)"
      ],
      "metadata": {
        "id": "FgfRKzzOClmP"
      },
      "execution_count": 18,
      "outputs": []
    },
    {
      "cell_type": "code",
      "source": [
        "score"
      ],
      "metadata": {
        "colab": {
          "base_uri": "https://localhost:8080/"
        },
        "id": "a_C5EETrCpSj",
        "outputId": "d11ca158-c47f-4209-8f68-b56f9defd70a"
      },
      "execution_count": 19,
      "outputs": [
        {
          "output_type": "execute_result",
          "data": {
            "text/plain": [
              "0.851"
            ]
          },
          "metadata": {},
          "execution_count": 19
        }
      ]
    }
  ]
}